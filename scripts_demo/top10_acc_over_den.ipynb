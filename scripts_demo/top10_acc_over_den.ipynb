{
 "cells": [
  {
   "cell_type": "code",
   "execution_count": 2,
   "metadata": {},
   "outputs": [],
   "source": [
    "from __future__ import division\n",
    "from sklearn.metrics import roc_curve,auc\n",
    "from sklearn.metrics import precision_recall_curve\n",
    "from scipy import interp\n",
    "import os\n",
    "import random\n",
    "import matplotlib\n",
    "import numpy as np\n",
    "#matplotlib.use('agg')\n",
    "import matplotlib.pyplot as plt"
   ]
  },
  {
   "cell_type": "code",
   "execution_count": 19,
   "metadata": {},
   "outputs": [
    {
     "data": {
      "text/plain": [
       "<Figure size 432x288 with 0 Axes>"
      ]
     },
     "metadata": {},
     "output_type": "display_data"
    }
   ],
   "source": [
    "if __name__ == '__main__':\n",
    "\n",
    "    tprs=[]\n",
    "    aucs=[]\n",
    "    tprs_=[]\n",
    "    aucs_=[]\n",
    "    mean_fpr=np.linspace(0,1,100)\n",
    "    mean_fpr_=np.linspace(0,1,100)\n",
    "    xy_temp=[]\n",
    "    XY_temp=[]\n",
    "    zz=[]\n",
    "    plt.figure()\n",
    "   # plt.subplot(1,2,1)\n",
    "    i=0\n",
    "    num=10\n",
    "    precision=[]\n",
    "    precision_r=[]\n",
    "    density=[]\n",
    "    for filename in os.listdir('./masif_homo_predictions_rr_all'):\n",
    "      #  temp=filename.split('.')\n",
    "      \n",
    "        file_path=os.path.join('./masif_homo_predictions_rr_all',filename)\n",
    "        a=np.loadtxt(file_path)\n",
    "        pred=a[:num,3]\n",
    "        true=a[:num,2]    \n",
    "        length=true.shape[0]\n",
    "        random_list=range(0,length)\n",
    "        random_pred=random.sample(random_list,length)\n",
    "        ss=np.random.random((length,2))\n",
    "        ss[:,0]=true\n",
    "        ss[:,1]=random_pred\n",
    "        sss=ss[np.argsort(-ss[:,1]),:]\n",
    "        true_r=sss[:num,0]\n",
    "        pred_r=sss[:num,1]\n",
    "        \n",
    "        pr=np.sum(a[:num,2])/num\n",
    "        den=np.sum(a[:,2])/(np.sqrt(a.shape[0]))\n",
    "        precision.append(pr)\n",
    "        density.append(den)\n",
    "\n",
    "        i=i+1\n",
    "    \n",
    "    \n",
    "    "
   ]
  },
  {
   "cell_type": "code",
   "execution_count": 20,
   "metadata": {},
   "outputs": [
    {
     "data": {
      "text/plain": [
       "216"
      ]
     },
     "execution_count": 20,
     "metadata": {},
     "output_type": "execute_result"
    }
   ],
   "source": [
    "len(precision)"
   ]
  },
  {
   "cell_type": "code",
   "execution_count": 22,
   "metadata": {},
   "outputs": [
    {
     "data": {
      "text/plain": [
       "2.6021585435983074"
      ]
     },
     "execution_count": 22,
     "metadata": {},
     "output_type": "execute_result"
    }
   ],
   "source": [
    "np.mean(density)"
   ]
  },
  {
   "cell_type": "code",
   "execution_count": 30,
   "metadata": {},
   "outputs": [
    {
     "data": {
      "image/png": "[encoded data removed]",
      "text/plain": [
       "<Figure size 432x288 with 1 Axes>"
      ]
     },
     "metadata": {
      "needs_background": "light"
     },
     "output_type": "display_data"
    },
    {
     "data": {
      "text/plain": [
       "<Figure size 432x288 with 0 Axes>"
      ]
     },
     "metadata": {},
     "output_type": "display_data"
    }
   ],
   "source": [
    "    hh_=np.concatenate([np.reshape(density,(i,1)),np.reshape(precision,(i,1))],-1)\n",
    "    hh=np.concatenate([hh_,np.reshape(precision,(i,1))],-1)\n",
    "    hhhh=hh[np.argsort(hh[:,0]),:]\n",
    "    min_=hhhh[0,0]\n",
    "    max_=hhhh[-1,0]\n",
    "    val=(max_-min_)/10.0\n",
    "    p=[]\n",
    "    p_r=[]\n",
    "    d=[]\n",
    "    for j in range(0,10):\n",
    "        k1=j*val+min_\n",
    "        k2=(j+1)*val+min_\n",
    "        n1=hhhh[hhhh[:,0]<=k2].shape[0]\n",
    "        n2=hhhh[hhhh[:,0]<k1].shape[0]\n",
    "        n3=n1-n2\n",
    "#\tprint(n3)\n",
    "        p1=np.sum(hhhh[n2:n1,1])/n3\n",
    "        p2=np.sum(hhhh[n2:n1,2])/n3\n",
    "        dd=(k1+k2)/2.0\n",
    "        p.append(p1)\n",
    "        p_r.append(p2)\n",
    "        d.append(dd)\n",
    "#    plt.bar(d,p)\n",
    "    dddd_=np.array(d)\n",
    "    dddd=np.reshape(dddd_,(10,1))\n",
    "    pppp_=np.array(p)\n",
    "    pppp=np.reshape(pppp_,(10,1))\n",
    "    plt.plot(dddd,pppp,color='b')\n",
    "  \n",
    "    plt.xlim([-0.05,10.05])\n",
    "    plt.ylim([-0.05,1.05])\n",
    "    plt.xlabel('density')\n",
    "    plt.ylabel('Accuracy')\n",
    "    plt.title('Acc')\n",
    "    plt.legend(loc='lower right')\n",
    "    plt.show()\n",
    "    plt.savefig(\"Acc_density_homo_0124.jpg\")"
   ]
  },
  {
   "cell_type": "code",
   "execution_count": 28,
   "metadata": {},
   "outputs": [
    {
     "data": {
      "text/plain": [
       "9.548780487804878"
      ]
     },
     "execution_count": 28,
     "metadata": {},
     "output_type": "execute_result"
    }
   ],
   "source": [
    "k2"
   ]
  }
 ],
 "metadata": {
  "kernelspec": {
   "display_name": "tensorflow2.7",
   "language": "python",
   "name": "tf27"
  },
  "language_info": {
   "codemirror_mode": {
    "name": "ipython",
    "version": 2
   },
   "file_extension": ".py",
   "mimetype": "text/x-python",
   "name": "python",
   "nbconvert_exporter": "python",
   "pygments_lexer": "ipython2",
   "version": "2.7.15"
  }
 },
 "nbformat": 4,
 "nbformat_minor": 4
}
