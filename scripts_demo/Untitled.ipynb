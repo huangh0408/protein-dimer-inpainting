{
 "cells": [
  {
   "cell_type": "code",
   "execution_count": 10,
   "metadata": {},
   "outputs": [
    {
     "name": "stdout",
     "output_type": "stream",
     "text": [
      "[0.66666667 0.5        1.         1.        ]\n",
      "[1.  0.5 0.5 0. ]\n",
      "[0.35 0.4  0.8 ]\n"
     ]
    },
    {
     "data": {
      "text/plain": [
       "array([0.66666667, 1.        , 1.        , 1.        ])"
      ]
     },
     "execution_count": 10,
     "metadata": {},
     "output_type": "execute_result"
    }
   ],
   "source": [
    "from sklearn.metrics import precision_recall_curve\n",
    "from scipy import interp\n",
    "import numpy as np\n",
    "y_true = [0, 0, 1, 1]\n",
    "y_score = [0.1, 0.4, 0.35, 0.8]\n",
    "precision, recall, thresholds = precision_recall_curve(y_true, y_score)\n",
    "print(precision)\n",
    "print(recall)\n",
    "print(thresholds)\n",
    "mean_fpr=np.linspace(0,1,4)\n",
    "f=interp(mean_fpr,recall,precision)\n",
    "f"
   ]
  }
 ],
 "metadata": {
  "kernelspec": {
   "display_name": "tensorflow2.7",
   "language": "python",
   "name": "tf27"
  },
  "language_info": {
   "codemirror_mode": {
    "name": "ipython",
    "version": 2
   },
   "file_extension": ".py",
   "mimetype": "text/x-python",
   "name": "python",
   "nbconvert_exporter": "python",
   "pygments_lexer": "ipython2",
   "version": "2.7.15"
  }
 },
 "nbformat": 4,
 "nbformat_minor": 4
}
