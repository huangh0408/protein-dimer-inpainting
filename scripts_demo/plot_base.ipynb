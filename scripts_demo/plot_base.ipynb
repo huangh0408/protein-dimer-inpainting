{
 "cells": [
  {
   "cell_type": "code",
   "execution_count": null,
   "metadata": {},
   "outputs": [],
   "source": [
    "import matplotlib\n",
    "import matplotlib.pyplot as plt\n",
    "def plot_input_output_of_this_protein(Input,Output_con,True_con,name):\n",
    "    from matplotlib.pyplot import figure\n",
    "    figure(num=None, figsize=(16, 16), dpi=80, facecolor='w', frameon=True, edgecolor='k')\n",
    "    plt.subplot(3, 8, 1)\n",
    "    plt.grid(None)\n",
    "    plt.imshow(Input, cmap='gray', interpolation='nearest')\n",
    "    plt.title(\"Input\")\n",
    "    plt.subplot(3, , 2)\n",
    "    plt.grid(None)\n",
    "    plt.imshow(Output_con, cmap='gray', interpolation='nearest')\n",
    "    plt.title(\"Output_contact\")\n",
    "    #plt.subplot(1, 4, 3)\n",
    "    #plt.grid(None)\n",
    "    #plt.imshow(Output_dis, cmap='RdYlBu', interpolation='nearest')\n",
    "    #plt.title(\"Output_distance\")\n",
    "    plt.subplot(1, 3, 3)\n",
    "    plt.grid(None)\n",
    "    plt.imshow(True_con, cmap='RdYlBu', interpolation='nearest')\n",
    "    plt.title(\"True_contact\")\n",
    "   \n",
    "    plt.suptitle(name+'_Prediction')\n",
    "    plt.show()"
   ]
  }
 ],
 "metadata": {
  "kernelspec": {
   "display_name": "tensorflow2.7",
   "language": "python",
   "name": "tf27"
  },
  "language_info": {
   "codemirror_mode": {
    "name": "ipython",
    "version": 2
   },
   "file_extension": ".py",
   "mimetype": "text/x-python",
   "name": "python",
   "nbconvert_exporter": "python",
   "pygments_lexer": "ipython2",
   "version": "2.7.15"
  }
 },
 "nbformat": 4,
 "nbformat_minor": 4
}
